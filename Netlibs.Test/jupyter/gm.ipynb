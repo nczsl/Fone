{
 "cells": [
  {
   "cell_type": "code",
   "execution_count": null,
   "metadata": {
    "dotnet_interactive": {
     "language": "csharp"
    }
   },
   "outputs": [
    {
     "data": {
      "text/html": [
       "<div><div></div><div></div><div><strong>Installed Packages</strong><ul><li><span>Util, 1.0.0</span></li></ul></div></div>"
      ]
     },
     "metadata": {},
     "output_type": "display_data"
    }
   ],
   "source": [
    "#r \"nuget:Util\""
   ]
  },
  {
   "cell_type": "code",
   "execution_count": null,
   "metadata": {
    "dotnet_interactive": {
     "language": "pwsh"
    }
   },
   "outputs": [
    {
     "name": "stdout",
     "output_type": "stream",
     "text": [
      "用于 .NET 的 Microsoft (R) 生成引擎版本 16.11.1+3e40a09f8\r\n",
      "版权所有(C) Microsoft Corporation。保留所有权利。\r\n",
      "\r\n",
      "  正在确定要还原的项目…\r\n",
      "  所有项目均是最新的，无法还原。\r\n",
      "  Util -> F:\\work\\netcorework\\refbus\\net5.0\\Util.dll\r\n",
      "\r\n",
      "已成功生成。\r\n",
      "    0 个警告\r\n",
      "    0 个错误\r\n",
      "\r\n",
      "已用时间 00:00:02.44\r\n"
     ]
    }
   ],
   "source": [
    "#!pwsh\n",
    "#dir\n",
    "dotnet build ..\\..\\Util\\Util.csproj"
   ]
  },
  {
   "cell_type": "code",
   "execution_count": null,
   "metadata": {
    "dotnet_interactive": {
     "language": "csharp"
    }
   },
   "outputs": [],
   "source": [
    "using Util.Mathematics.Function;"
   ]
  },
  {
   "cell_type": "code",
   "execution_count": null,
   "metadata": {
    "dotnet_interactive": {
     "language": "csharp"
    }
   },
   "outputs": [
    {
     "name": "stdout",
     "output_type": "stream",
     "text": [
      "a\r\n"
     ]
    }
   ],
   "source": [
    "var frh = new FuncRadicalHandler();\n",
    "frh.Build(\n",
    "    (new Radical(\"a\"), 0)\n",
    "    , (new Radical(\"a\", PatternType.Subtract), 0)\n",
    "    , (new Radical(\"c\", PatternType.Subtract), 0)\n",
    "    , (new Radical(\"b\", PatternType.Multiply), 0)\n",
    "    , (new Radical(2, PatternType.Divide), 0)\n",
    "    , (new Radical(\"b\", PatternType.Add), 0)\n",
    "    , (new Radical(3, PatternType.Pow), 0)\n",
    ");\n",
    "foreach(var i in frh.Target.GetElement()){\n",
    "    System.Console.WriteLine(i.Radical);\n",
    "}"
   ]
  },
  {
   "cell_type": "code",
   "execution_count": null,
   "metadata": {
    "dotnet_interactive": {
     "language": "csharp"
    }
   },
   "outputs": [
    {
     "data": {
      "text/plain": [
       "+ a - a - c * b / 2 + b ^ 3"
      ]
     },
     "metadata": {},
     "output_type": "display_data"
    }
   ],
   "source": [
    "frh.chain.Query().Print()"
   ]
  },
  {
   "cell_type": "markdown",
   "metadata": {
    "dotnet_interactive": {
     "language": "csharp"
    }
   },
   "source": [
    "# math\n",
    "$$\n",
    "a-a-c*\\frac{b}{2}+b^3\n",
    "$$"
   ]
  }
 ],
 "metadata": {
  "kernelspec": {
   "display_name": ".NET (C#)",
   "language": "C#",
   "name": ".net-csharp"
  },
  "language_info": {
   "file_extension": ".cs",
   "mimetype": "text/x-csharp",
   "name": "C#",
   "pygments_lexer": "csharp",
   "version": "9.0"
  },
  "orig_nbformat": 4
 },
 "nbformat": 4,
 "nbformat_minor": 2
}
